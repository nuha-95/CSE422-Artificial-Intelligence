{
  "nbformat": 4,
  "nbformat_minor": 0,
  "metadata": {
    "colab": {
      "provenance": [],
      "authorship_tag": "ABX9TyOfjaxnHDDC7aIxWUC6agUe"
    },
    "kernelspec": {
      "name": "python3",
      "display_name": "Python 3"
    },
    "language_info": {
      "name": "python"
    }
  },
  "cells": [
    {
      "cell_type": "code",
      "execution_count": null,
      "metadata": {
        "colab": {
          "base_uri": "https://localhost:8080/"
        },
        "id": "g3Vo3uyk_KVs",
        "outputId": "a1d27b0b-ab11-4f8f-ad2a-cd68360f1db1"
      },
      "outputs": [
        {
          "output_type": "stream",
          "name": "stdout",
          "text": [
            "Enter your student ID: 21141009\n",
            "Generated random points between the minimum and maximum limits: [71, 74, 17, 89, 133, 61, 29, 122]\n",
            "Total points to win: 98\n",
            "Achieved point by applying alpha-beta pruning: 122\n",
            "The winner is Optimus Prime\n",
            "\n",
            "After the shuffle:\n",
            "List of points values from each shuffle: [89, 74, 71, 122]\n",
            "The maximum value of all shuffles: 122\n",
            "Won 1 times out of 4 number of shuffles\n"
          ]
        }
      ],
      "source": [
        "import math\n",
        "import random\n",
        "\n",
        "def generate_random_points(num_points, min_val, max_val):\n",
        "    return [random.randint(min_val, max_val) for i in range(num_points)]\n",
        "\n",
        "def alpha_beta_pruning(points, branching_factor, node, depth, player, alpha, beta):\n",
        "    if depth == 0:\n",
        "        return points[node]\n",
        "    if player == 'MAX':\n",
        "        max_val = -math.inf\n",
        "        for i in range(branching_factor):\n",
        "            value = alpha_beta_pruning(points, branching_factor, (node * branching_factor) + i, depth - 1, 'MIN', alpha, beta)\n",
        "            max_val = max(value, max_val)\n",
        "            alpha = max(alpha, max_val)\n",
        "            if beta <= alpha:\n",
        "                break\n",
        "        return max_val\n",
        "    else:\n",
        "        min_val = math.inf\n",
        "        for i in range(branching_factor):\n",
        "            value = alpha_beta_pruning(points, branching_factor, (node * branching_factor) + i, depth - 1, 'MAX', alpha, beta)\n",
        "            min_val = min(value, min_val)\n",
        "            beta = min(beta, min_val)\n",
        "            if beta <= alpha:\n",
        "                break\n",
        "        return min_val\n",
        "\n",
        "student_id = str(input(\"Enter your student ID: \"))\n",
        "if '0' in student_id:\n",
        "    student_id = student_id.replace('0', '8')\n",
        "\n",
        "min_value = int(student_id[4])\n",
        "total_to_win = int(student_id[len(student_id) - 1] + student_id[len(student_id) - 2])\n",
        "max_value = math.ceil(total_to_win * 1.5)\n",
        "num_shuffles = int(student_id[3])\n",
        "\n",
        "alpha_val = -math.inf\n",
        "beta_val = math.inf\n",
        "\n",
        "branch_factor = 2\n",
        "depth_val = 3\n",
        "terminal_nodes = pow(branch_factor, depth_val)\n",
        "\n",
        "points_list = generate_random_points(terminal_nodes, min_value, max_value)\n",
        "\n",
        "# Task 1\n",
        "result_val = alpha_beta_pruning(points_list, branch_factor, 0, depth_val, 'MAX', alpha_val, beta_val)\n",
        "print(\"Generated random points between the minimum and maximum limits:\", points_list)\n",
        "print(\"Total points to win:\", total_to_win)\n",
        "print(\"Achieved point by applying alpha-beta pruning:\", result_val)\n",
        "if result_val > total_to_win:\n",
        "    print(\"The winner is Optimus Prime\")\n",
        "else:\n",
        "    print(\"The winner is Megatron\")\n",
        "\n",
        "# Task 2\n",
        "shuffle_results = []\n",
        "for i in range(num_shuffles):\n",
        "    random.shuffle(points_list)\n",
        "    result_val = alpha_beta_pruning(points_list, branch_factor, 0, depth_val, 'MAX', alpha_val, beta_val)\n",
        "    shuffle_results.append(result_val)\n",
        "\n",
        "print(\"\\nAfter the shuffle:\")\n",
        "print(\"List of points values from each shuffle:\", shuffle_results)\n",
        "max_result = max(shuffle_results)\n",
        "print(\"The maximum value of all shuffles:\", max_result)\n",
        "count_wins = sum(1 for result in shuffle_results if result > total_to_win)\n",
        "print(\"Won\", count_wins, \"times out of\", len(shuffle_results), \"number of shuffles\")"
      ]
    }
  ]
}