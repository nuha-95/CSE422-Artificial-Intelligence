{
  "nbformat": 4,
  "nbformat_minor": 0,
  "metadata": {
    "colab": {
      "provenance": [],
      "authorship_tag": "ABX9TyPKnFyoHmJaMZZqiyotRpXJ",
      "include_colab_link": true
    },
    "kernelspec": {
      "name": "python3",
      "display_name": "Python 3"
    },
    "language_info": {
      "name": "python"
    }
  },
  "cells": [
    {
      "cell_type": "markdown",
      "metadata": {
        "id": "view-in-github",
        "colab_type": "text"
      },
      "source": [
        "<a href=\"https://colab.research.google.com/github/nuha-95/CSE422-Artificial-Intelligence/blob/main/CSE422_LAB2.ipynb\" target=\"_parent\"><img src=\"https://colab.research.google.com/assets/colab-badge.svg\" alt=\"Open In Colab\"/></a>"
      ]
    },
    {
      "cell_type": "code",
      "execution_count": null,
      "metadata": {
        "colab": {
          "base_uri": "https://localhost:8080/"
        },
        "id": "Def6AeFPGIJz",
        "outputId": "7b71e0a1-6c32-4876-e119-07e5705c591d"
      },
      "outputs": [
        {
          "output_type": "stream",
          "name": "stdout",
          "text": [
            "Enter the number of batsmen and target score: 4 100\n",
            "Enter the name and average runs for batsman 1: Ralph 80\n",
            "Enter the name and average runs for batsman 2: John 70\n",
            "Enter the name and average runs for batsman 3: Tom 40\n",
            "Enter the name and average runs for batsman 4: Young 50\n",
            "['Ralph', 'John', 'Tom', 'Young']\n",
            "-1\n"
          ]
        }
      ],
      "source": [
        "import sys\n",
        "import math\n",
        "from random import randint as rand\n",
        "\n",
        "N, T = map(int, input(\"Enter the number of batsmen and target score: \").split())\n",
        "n = []\n",
        "R = []\n",
        "\n",
        "for i in range(N):\n",
        "    name, avg = input(f\"Enter the name and average runs for batsman {i + 1}: \").split()\n",
        "    n.append(name)\n",
        "    R.append(int(avg))\n",
        "\n",
        "threshold = sys.getrecursionlimit()\n",
        "\n",
        "def fitness(pattern):\n",
        "    score = 0\n",
        "    for i in range(len(pattern)):\n",
        "        if pattern[i] == \"1\":\n",
        "            score += R[i]\n",
        "    return score\n",
        "\n",
        "def crossover(parent1, parent2):\n",
        "    midpoint = int(math.ceil(N/2.0))\n",
        "    x = parent1[:midpoint] + parent2[midpoint:]\n",
        "    y = parent2[:midpoint] + parent1[midpoint:]\n",
        "    return x, y\n",
        "\n",
        "def mutation(parent):\n",
        "    index = int(str(rand(0, N-1)))\n",
        "    if parent[index] == \"1\":\n",
        "        change = \"0\"\n",
        "    else:\n",
        "        change = \"1\"\n",
        "    mutant = parent[:index] + change + parent[index+1:]\n",
        "    return mutant\n",
        "\n",
        "def Population(size):\n",
        "    string = \"\"\n",
        "    for i in range(size):\n",
        "        string += str(rand(0, 1))\n",
        "    return string\n",
        "\n",
        "def GA(parent1, parent2, threshold):\n",
        "    stack = [(parent1, parent2, threshold)]\n",
        "\n",
        "    while stack:\n",
        "        x, y, threshold = stack.pop()\n",
        "\n",
        "        if threshold == 0:\n",
        "            return -1\n",
        "\n",
        "        x, y = crossover(x, y)\n",
        "\n",
        "        if fitness(x) == T:\n",
        "            return x\n",
        "        elif fitness(y) == T:\n",
        "            return y\n",
        "\n",
        "        x = mutation(x)\n",
        "        y = mutation(y)\n",
        "        stack.append((x, y, threshold - 1))\n",
        "\n",
        "x = Population(N)\n",
        "y = Population(N)\n",
        "print(n)\n",
        "result = GA(x, y, threshold)\n",
        "print(result)"
      ]
    }
  ]
}