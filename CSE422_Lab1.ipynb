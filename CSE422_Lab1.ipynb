{
  "nbformat": 4,
  "nbformat_minor": 0,
  "metadata": {
    "colab": {
      "provenance": [],
      "authorship_tag": "ABX9TyOzR5TYydefl1Q6eBw0+upB"
    },
    "kernelspec": {
      "name": "python3",
      "display_name": "Python 3"
    },
    "language_info": {
      "name": "python"
    }
  },
  "cells": [
    {
      "cell_type": "code",
      "source": [
        "f = open(\"/content/Input file.txt\", \"r\")\n",
        "import heapq\n",
        "lst = []\n",
        "pq = []\n",
        "path = []\n",
        "hn = {}\n",
        "\n",
        "for line in f:\n",
        "    l = list(map(str, line.split(' ')))\n",
        "    l[-1] = l[-1].replace(\"\\n\", \"\")\n",
        "    hn.update({l[0]: int(l[1])})\n",
        "    lst.append(l)\n",
        "\n",
        "start = input(\"Start node: \")\n",
        "start=start.title()\n",
        "goal = input(\"Destination: \")\n",
        "goal=goal.title()\n",
        "\n",
        "\n",
        "def f_n(g_n, h_n):\n",
        "    return g_n + h_n\n",
        "\n",
        "\n",
        "heapq.heappush(pq, (0, start, hn[start]))  # (f(n), node, h(n))\n",
        "cost_so_far = {start: 0}\n",
        "\n",
        "while pq:\n",
        "    f_score, a, h_n = heapq.heappop(pq)\n",
        "    g_n = cost_so_far[a]\n",
        "\n",
        "    if a == goal:\n",
        "        path.append(a)\n",
        "        break\n",
        "\n",
        "    if a not in path:\n",
        "        path.append(a)\n",
        "\n",
        "    for i in range(len(lst)):\n",
        "        if lst[i][0] == a:\n",
        "            for j in range(len(lst[i])):\n",
        "                if j % 2 == 0:\n",
        "                    c = lst[i][j]\n",
        "                    edge_cost = int(lst[i][j + 1])\n",
        "                    g_n_child = g_n + edge_cost\n",
        "                    gn = int(lst[i][j + 1])\n",
        "                    f_n_child = gn + hn[c]  # f(n) for the child\n",
        "                    heapq.heappush(pq, (f_n_child, c, hn[c]))\n",
        "                    if c not in cost_so_far or g_n_child < cost_so_far[c]:\n",
        "                        cost_so_far[c] = g_n_child\n",
        "\n",
        "if len(path)!=0:\n",
        "  print(\"Path from {} to {}: {}\".format(start, goal, \" -> \".join(path)))\n",
        "  print(\"Total distance: {} km\".format(cost_so_far[goal]))\n",
        "else:\n",
        "  print(\"NO PATH FOUND\")\n",
        "\n",
        "\n"
      ],
      "metadata": {
        "colab": {
          "base_uri": "https://localhost:8080/"
        },
        "id": "wKqrFYjuJG9v",
        "outputId": "b4beff1f-fd6f-42d6-a797-f9c9d6979a83"
      },
      "execution_count": null,
      "outputs": [
        {
          "output_type": "stream",
          "name": "stdout",
          "text": [
            "Start node: arad\n",
            "Destination: bucharest\n",
            "Path from Arad to Bucharest: Arad -> Sibiu -> RimnicuVilcea -> Pitesti -> Bucharest\n",
            "Total distance: 418 km\n"
          ]
        }
      ]
    }
  ]
}